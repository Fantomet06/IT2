{
 "cells": [
  {
   "cell_type": "markdown",
   "metadata": {},
   "source": [
    "# HSH2"
   ]
  },
  {
   "cell_type": "code",
   "execution_count": null,
   "metadata": {},
   "outputs": [],
   "source": [
    "def tell_antall_i_liste(liste: list, tall: int) -> int:\n",
    "    antall = 0\n",
    "    for i in liste:\n",
    "        if i == tall:\n",
    "            antall += 1\n",
    "    return antall\n",
    "\n",
    "test_liste = [1, 0, 0, 0, 1, 1, 0]\n",
    "print(tell_antall_i_liste(test_liste, 1))"
   ]
  },
  {
   "cell_type": "markdown",
   "metadata": {},
   "source": [
    "# HSH3"
   ]
  },
  {
   "cell_type": "code",
   "execution_count": null,
   "metadata": {},
   "outputs": [],
   "source": [
    "liste1 = []\n",
    "for i in range(1,10):\n",
    "    liste1.append(i)\n",
    "print(liste1)\n",
    "\n",
    "liste2 = []\n",
    "for i in reversed(liste1):\n",
    "    liste2.append(i**2)\n",
    "\n",
    "print(liste2)\n",
    "\n",
    "\n",
    "# Min løsning\n",
    "liste3 = [x**2 for x in range(9,0,-1)]\n",
    "print(liste3)"
   ]
  },
  {
   "cell_type": "markdown",
   "metadata": {},
   "source": [
    "# HSH 5"
   ]
  },
  {
   "cell_type": "code",
   "execution_count": 23,
   "metadata": {},
   "outputs": [
    {
     "name": "stdout",
     "output_type": "stream",
     "text": [
      "[3, 7, 2, 4, 2, 4, 1, 0, 3, 1]\n"
     ]
    }
   ],
   "source": [
    "tall = \"124135981365105012081348513\"\n",
    "\n",
    "sum_liste = [0]*10\n",
    "for sjekk in range(10):\n",
    "    for x in tall:\n",
    "        if str(sjekk) == x:\n",
    "            sum_liste[sjekk] += 1\n",
    "\n",
    "print(sum_liste)"
   ]
  },
  {
   "cell_type": "markdown",
   "metadata": {},
   "source": [
    "# HSH 7"
   ]
  },
  {
   "cell_type": "code",
   "execution_count": null,
   "metadata": {},
   "outputs": [],
   "source": [
    "def konverter(tall: int) -> str:\n",
    "    \"\"\"\n",
    "    Konverterer tall til streng i binær\n",
    "    \n",
    "    Parametere:\n",
    "    ----------\n",
    "\n",
    "    tall (int): tallet som skal konverteres\n",
    "\n",
    "    Retur:\n",
    "    -------\n",
    "    (str): Streng av tallet i binær format\n",
    "    \"\"\"\n",
    "    assert isinstance(tall, int), \"Tallet må være et heltall\"\n",
    "    assert tall <= 64 and tall >= 1, \"Tallet må være mellom 1 og 64\"\n",
    "    \n",
    "    binær_streng = \"\"\n",
    "    while tall != 0:\n",
    "        binær_streng += str(tall%2)\n",
    "        tall = tall//2\n",
    "    return binær_streng[::-1]\n",
    "\n",
    "def main():\n",
    "    # Test av kode:\n",
    "    test_tall = int(input(\"Skriv inn et tall mellom 1 og 64: \"))\n",
    "    resultat = konverter(test_tall)\n",
    "    print(f\"Tallet {test_tall} er blitt omgjort til {resultat}\")\n",
    "\n",
    "if __name__ == '__main__':\n",
    "    main()"
   ]
  },
  {
   "cell_type": "markdown",
   "metadata": {},
   "source": [
    "# HSH 8"
   ]
  },
  {
   "cell_type": "code",
   "execution_count": 22,
   "metadata": {},
   "outputs": [
    {
     "name": "stdout",
     "output_type": "stream",
     "text": [
      "5.0\n"
     ]
    }
   ],
   "source": [
    "def halv(tall):\n",
    "    return tall/2\n",
    "\n",
    "tall = 10\n",
    "print(halv(tall))"
   ]
  },
  {
   "cell_type": "markdown",
   "metadata": {},
   "source": [
    "# HSH 9"
   ]
  },
  {
   "cell_type": "code",
   "execution_count": null,
   "metadata": {},
   "outputs": [],
   "source": [
    "for tall in range(1, 100):\n",
    "    if tall%15 == 0:\n",
    "        print(\"fizzbuzz\")\n",
    "    elif tall%5 == 0:\n",
    "        print(\"buzz\")\n",
    "    elif tall%3 == 0:\n",
    "        print(\"fizz\")\n",
    "    else:\n",
    "        print(tall)"
   ]
  }
 ],
 "metadata": {
  "kernelspec": {
   "display_name": "Python 3",
   "language": "python",
   "name": "python3"
  },
  "language_info": {
   "codemirror_mode": {
    "name": "ipython",
    "version": 3
   },
   "file_extension": ".py",
   "mimetype": "text/x-python",
   "name": "python",
   "nbconvert_exporter": "python",
   "pygments_lexer": "ipython3",
   "version": "3.8.1"
  }
 },
 "nbformat": 4,
 "nbformat_minor": 2
}
